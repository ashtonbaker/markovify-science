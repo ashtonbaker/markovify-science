{
 "cells": [
  {
   "cell_type": "code",
   "execution_count": 1,
   "metadata": {
    "collapsed": false
   },
   "outputs": [],
   "source": [
    "from Bio import Entrez\n",
    "import os"
   ]
  },
  {
   "cell_type": "code",
   "execution_count": 2,
   "metadata": {
    "collapsed": false
   },
   "outputs": [
    {
     "data": {
      "text/plain": [
       "'RNA AND disease AND mouse'"
      ]
     },
     "execution_count": 2,
     "metadata": {},
     "output_type": "execute_result"
    }
   ],
   "source": [
    "searchKeywords = [\"RNA\", \"disease\", \"mouse\"]\n",
    "searchTermString = \" AND \".join(searchKeywords)\n",
    "searchTermString"
   ]
  },
  {
   "cell_type": "code",
   "execution_count": 3,
   "metadata": {
    "collapsed": false
   },
   "outputs": [],
   "source": [
    "Entrez.email = \"diaorch@umich.edu\""
   ]
  },
  {
   "cell_type": "code",
   "execution_count": 4,
   "metadata": {
    "collapsed": false
   },
   "outputs": [
    {
     "data": {
      "text/plain": [
       "['28009297', '28008926', '28007334', '28002605', '28002126', '27998767', '27995765', '27983220', '27981604', '27981238', '27976428', '27975168', '27964180', '27966608', '27965467', '27965448', '27955979', '27955842', '27955791', '27939857']"
      ]
     },
     "execution_count": 4,
     "metadata": {},
     "output_type": "execute_result"
    }
   ],
   "source": [
    "searchHandle = Entrez.esearch(db = \"pubmed\", term = searchTermString)\n",
    "searchRecord = Entrez.read(searchHandle)\n",
    "searchRecord[\"IdList\"]"
   ]
  },
  {
   "cell_type": "code",
   "execution_count": 33,
   "metadata": {
    "collapsed": false
   },
   "outputs": [
    {
     "data": {
      "text/plain": [
       "[u'Count',\n",
       " u'RetMax',\n",
       " u'IdList',\n",
       " u'TranslationStack',\n",
       " u'TranslationSet',\n",
       " u'RetStart',\n",
       " u'QueryTranslation']"
      ]
     },
     "execution_count": 33,
     "metadata": {},
     "output_type": "execute_result"
    }
   ],
   "source": [
    "searchRecord.keys()"
   ]
  },
  {
   "cell_type": "code",
   "execution_count": 43,
   "metadata": {
    "collapsed": false
   },
   "outputs": [
    {
     "name": "stdout",
     "output_type": "stream",
     "text": [
      "\n",
      "PMID- 28009297\n",
      "OWN - NLM\n",
      "STAT- In-Data-Review\n",
      "DA  - 20161223\n",
      "LR  - 20161224\n",
      "IS  - 2211-1247 (Electronic)\n",
      "VI  - 17\n",
      "IP  - 12\n",
      "DP  - 2016 Dec 20\n",
      "TI  - Integrative Analysis of PRKAG2 Cardiomyopathy iPS and Microtissue Models\n",
      "      Identifies AMPK as a Regulator of Metabolism, Survival, and Fibrosis.\n",
      "PG  - 3292-3304\n",
      "LID - S2211-1247(16)31640-0 [pii]\n",
      "LID - 10.1016/j.celrep.2016.11.066 [doi]\n",
      "AB  - AMP-activated protein kinase (AMPK) is a metabolic enzyme that can be activated\n",
      "      by nutrient stress or genetic mutations. Missense mutations in the regulatory\n",
      "      subunit, PRKAG2, activate AMPK and cause left ventricular hypertrophy, glycogen\n",
      "      accumulation, and ventricular pre-excitation. Using human iPS cell models\n",
      "      combined with three-dimensional cardiac microtissues, we show that activating\n",
      "      PRKAG2 mutations increase microtissue twitch force by enhancing myocyte survival.\n",
      "      Integrating RNA sequencing with metabolomics, PRKAG2 mutations that activate AMPK\n",
      "      remodeled global metabolism by regulating RNA transcripts to favor glycogen\n",
      "      storage and oxidative metabolism instead of glycolysis. As in patients with\n",
      "      PRKAG2 cardiomyopathy, iPS cell and mouse models are protected from cardiac\n",
      "      fibrosis, and we define a crosstalk between AMPK and post-transcriptional\n",
      "      regulation of TGFbeta isoform signaling that has implications in fibrotic forms\n",
      "      of cardiomyopathy. Our results establish critical connections among metabolic\n",
      "      sensing, myocyte survival, and TGFbeta signaling.\n",
      "CI  - Copyright (c) 2016 The Author(s). Published by Elsevier Inc. All rights reserved.\n",
      "FAU - Hinson, J Travis\n",
      "AU  - Hinson JT\n",
      "AD  - The Jackson Laboratory for Genomic Medicine, Farmington, CT 06032, USA;\n",
      "      Cardiology Center, University of Connecticut Health, Farmington, CT 06030, USA.\n",
      "      Electronic address: travis.hinson@jax.org.\n",
      "FAU - Chopra, Anant\n",
      "AU  - Chopra A\n",
      "AD  - Department of Biomedical Engineering, Boston University, Boston, MA 02215, USA;\n",
      "      The Wyss Institute for Biologically Inspired Engineering at Harvard University,\n",
      "      Boston, MA 02115, USA.\n",
      "FAU - Lowe, Andre\n",
      "AU  - Lowe A\n",
      "AD  - The Jackson Laboratory for Genomic Medicine, Farmington, CT 06032, USA.\n",
      "FAU - Sheng, Calvin C\n",
      "AU  - Sheng CC\n",
      "AD  - Department of Genetics, Harvard Medical School, Boston, MA 02115, USA.\n",
      "FAU - Gupta, Rajat M\n",
      "AU  - Gupta RM\n",
      "AD  - Division of Cardiovascular Medicine, Brigham and Women's Hospital, Boston, MA\n",
      "      02115, USA.\n",
      "FAU - Kuppusamy, Rajarajan\n",
      "AU  - Kuppusamy R\n",
      "AD  - Division of Cardiovascular Medicine, Cardiovascular Institute, Stanford\n",
      "      University School of Medicine, Stanford, CA 94305, USA.\n",
      "FAU - O'Sullivan, John\n",
      "AU  - O'Sullivan J\n",
      "AD  - Division of Cardiovascular Medicine, Massachusetts General Hospital, Boston, MA\n",
      "      02114, USA.\n",
      "FAU - Rowe, Glenn\n",
      "AU  - Rowe G\n",
      "AD  - Division of Cardiovascular Disease, University of Alabama at Birmingham,\n",
      "      Birmingham, AL 35294, USA.\n",
      "FAU - Wakimoto, Hiroko\n",
      "AU  - Wakimoto H\n",
      "AD  - Department of Genetics, Harvard Medical School, Boston, MA 02115, USA.\n",
      "FAU - Gorham, Joshua\n",
      "AU  - Gorham J\n",
      "AD  - Department of Genetics, Harvard Medical School, Boston, MA 02115, USA.\n",
      "FAU - Zhang, Kehan\n",
      "AU  - Zhang K\n",
      "AD  - Department of Biomedical Engineering, Boston University, Boston, MA 02215, USA;\n",
      "      The Wyss Institute for Biologically Inspired Engineering at Harvard University,\n",
      "      Boston, MA 02115, USA.\n",
      "FAU - Musunuru, Kiran\n",
      "AU  - Musunuru K\n",
      "AD  - Penn Cardiovascular Institute, University of Pennsylvania, Philadelphia, PA\n",
      "      19104, USA.\n",
      "FAU - Gerszten, Robert E\n",
      "AU  - Gerszten RE\n",
      "AD  - Division of Cardiovascular Medicine, Massachusetts General Hospital, Boston, MA\n",
      "      02114, USA; Division of Cardiovascular Medicine, Beth Israel Deaconess Hospital, \n",
      "      Boston, MA 02115, USA.\n",
      "FAU - Wu, Sean M\n",
      "AU  - Wu SM\n",
      "AD  - Division of Cardiovascular Medicine, Cardiovascular Institute, Stanford\n",
      "      University School of Medicine, Stanford, CA 94305, USA.\n",
      "FAU - Chen, Christopher S\n",
      "AU  - Chen CS\n",
      "AD  - Department of Biomedical Engineering, Boston University, Boston, MA 02215, USA;\n",
      "      The Wyss Institute for Biologically Inspired Engineering at Harvard University,\n",
      "      Boston, MA 02115, USA.\n",
      "FAU - Seidman, Jonathan G\n",
      "AU  - Seidman JG\n",
      "AD  - Department of Genetics, Harvard Medical School, Boston, MA 02115, USA.\n",
      "FAU - Seidman, Christine E\n",
      "AU  - Seidman CE\n",
      "AD  - Department of Genetics, Harvard Medical School, Boston, MA 02115, USA; Division\n",
      "      of Cardiovascular Medicine, Brigham and Women's Hospital, Boston, MA 02115, USA; \n",
      "      Howard Hughes Medical Institute, Chevy Chase, MD 20815, USA. Electronic address: \n",
      "      cseidman@genetics.med.harvard.edu.\n",
      "LA  - eng\n",
      "PT  - Journal Article\n",
      "PL  - United States\n",
      "TA  - Cell Rep\n",
      "JT  - Cell reports\n",
      "JID - 101573691\n",
      "OTO - NOTNLM\n",
      "OT  - AMP-activated protein kinase\n",
      "OT  - AMPK\n",
      "OT  - PRKAG2\n",
      "OT  - TGF-beta\n",
      "OT  - Wolff-Parkinson-White syndrome\n",
      "OT  - fibrosis\n",
      "OT  - glycogen storage disease\n",
      "OT  - hypertrophic cardiomyopathy\n",
      "EDAT- 2016/12/24 06:00\n",
      "MHDA- 2016/12/24 06:00\n",
      "CRDT- 2016/12/24 06:00\n",
      "PHST- 2016/07/01 [received]\n",
      "PHST- 2016/09/19 [revised]\n",
      "PHST- 2016/11/21 [accepted]\n",
      "AID - S2211-1247(16)31640-0 [pii]\n",
      "AID - 10.1016/j.celrep.2016.11.066 [doi]\n",
      "PST - ppublish\n",
      "SO  - Cell Rep. 2016 Dec 20;17(12):3292-3304. doi: 10.1016/j.celrep.2016.11.066.\n",
      "\n"
     ]
    }
   ],
   "source": [
    "fetchHandle = Entrez.efetch(db = \"pubmed\", id = searchRecord[\"IdList\"][0], rettype = \"medline\", retmode = \"text\")\n",
    "fetchRecord = fetchHandle.read()\n",
    "print(fetchRecord)"
   ]
  },
  {
   "cell_type": "code",
   "execution_count": 44,
   "metadata": {
    "collapsed": false
   },
   "outputs": [
    {
     "data": {
      "text/plain": [
       "{'AB': 'AMP-activated protein kinase (AMPK) is a metabolic enzyme that can be activated by nutrient stress or genetic mutations. Missense mutations in the regulatory subunit, PRKAG2, activate AMPK and cause left ventricular hypertrophy, glycogen accumulation, and ventricular pre-excitation. Using human iPS cell models combined with three-dimensional cardiac microtissues, we show that activating PRKAG2 mutations increase microtissue twitch force by enhancing myocyte survival. Integrating RNA sequencing with metabolomics, PRKAG2 mutations that activate AMPK remodeled global metabolism by regulating RNA transcripts to favor glycogen storage and oxidative metabolism instead of glycolysis. As in patients with PRKAG2 cardiomyopathy, iPS cell and mouse models are protected from cardiac fibrosis, and we define a crosstalk between AMPK and post-transcriptional regulation of TGFbeta isoform signaling that has implications in fibrotic forms of cardiomyopathy. Our results establish critical connections among metabolic sensing, myocyte survival, and TGFbeta signaling.',\n",
       " 'AD': \"The Jackson Laboratory for Genomic Medicine, Farmington, CT 06032, USA; Cardiology Center, University of Connecticut Health, Farmington, CT 06030, USA. Electronic address: travis.hinson@jax.org. Department of Biomedical Engineering, Boston University, Boston, MA 02215, USA; The Wyss Institute for Biologically Inspired Engineering at Harvard University, Boston, MA 02115, USA. The Jackson Laboratory for Genomic Medicine, Farmington, CT 06032, USA. Department of Genetics, Harvard Medical School, Boston, MA 02115, USA. Division of Cardiovascular Medicine, Brigham and Women's Hospital, Boston, MA 02115, USA. Division of Cardiovascular Medicine, Cardiovascular Institute, Stanford University School of Medicine, Stanford, CA 94305, USA. Division of Cardiovascular Medicine, Massachusetts General Hospital, Boston, MA 02114, USA. Division of Cardiovascular Disease, University of Alabama at Birmingham, Birmingham, AL 35294, USA. Department of Genetics, Harvard Medical School, Boston, MA 02115, USA. Department of Genetics, Harvard Medical School, Boston, MA 02115, USA. Department of Biomedical Engineering, Boston University, Boston, MA 02215, USA; The Wyss Institute for Biologically Inspired Engineering at Harvard University, Boston, MA 02115, USA. Penn Cardiovascular Institute, University of Pennsylvania, Philadelphia, PA 19104, USA. Division of Cardiovascular Medicine, Massachusetts General Hospital, Boston, MA 02114, USA; Division of Cardiovascular Medicine, Beth Israel Deaconess Hospital, Boston, MA 02115, USA. Division of Cardiovascular Medicine, Cardiovascular Institute, Stanford University School of Medicine, Stanford, CA 94305, USA. Department of Biomedical Engineering, Boston University, Boston, MA 02215, USA; The Wyss Institute for Biologically Inspired Engineering at Harvard University, Boston, MA 02115, USA. Department of Genetics, Harvard Medical School, Boston, MA 02115, USA. Department of Genetics, Harvard Medical School, Boston, MA 02115, USA; Division of Cardiovascular Medicine, Brigham and Women's Hospital, Boston, MA 02115, USA; Howard Hughes Medical Institute, Chevy Chase, MD 20815, USA. Electronic address: cseidman@genetics.med.harvard.edu.\",\n",
       " 'AID': ['S2211-1247(16)31640-0 [pii]', '10.1016/j.celrep.2016.11.066 [doi]'],\n",
       " 'AU': ['Hinson JT',\n",
       "  'Chopra A',\n",
       "  'Lowe A',\n",
       "  'Sheng CC',\n",
       "  'Gupta RM',\n",
       "  'Kuppusamy R',\n",
       "  \"O'Sullivan J\",\n",
       "  'Rowe G',\n",
       "  'Wakimoto H',\n",
       "  'Gorham J',\n",
       "  'Zhang K',\n",
       "  'Musunuru K',\n",
       "  'Gerszten RE',\n",
       "  'Wu SM',\n",
       "  'Chen CS',\n",
       "  'Seidman JG',\n",
       "  'Seidman CE'],\n",
       " 'CI': ['Copyright (c) 2016 The Author(s). Published by Elsevier Inc. All rights reserved.'],\n",
       " 'CRDT': ['2016/12/24 06:00'],\n",
       " 'DA': '20161223',\n",
       " 'DP': '2016 Dec 20',\n",
       " 'EDAT': '2016/12/24 06:00',\n",
       " 'FAU': ['Hinson, J Travis',\n",
       "  'Chopra, Anant',\n",
       "  'Lowe, Andre',\n",
       "  'Sheng, Calvin C',\n",
       "  'Gupta, Rajat M',\n",
       "  'Kuppusamy, Rajarajan',\n",
       "  \"O'Sullivan, John\",\n",
       "  'Rowe, Glenn',\n",
       "  'Wakimoto, Hiroko',\n",
       "  'Gorham, Joshua',\n",
       "  'Zhang, Kehan',\n",
       "  'Musunuru, Kiran',\n",
       "  'Gerszten, Robert E',\n",
       "  'Wu, Sean M',\n",
       "  'Chen, Christopher S',\n",
       "  'Seidman, Jonathan G',\n",
       "  'Seidman, Christine E'],\n",
       " 'IP': '12',\n",
       " 'IS': '2211-1247 (Electronic)',\n",
       " 'JID': '101573691',\n",
       " 'JT': 'Cell reports',\n",
       " 'LA': ['eng'],\n",
       " 'LID': 'S2211-1247(16)31640-0 [pii] 10.1016/j.celrep.2016.11.066 [doi]',\n",
       " 'LR': '20161224',\n",
       " 'MHDA': '2016/12/24 06:00',\n",
       " 'OT': ['AMP-activated protein kinase',\n",
       "  'AMPK',\n",
       "  'PRKAG2',\n",
       "  'TGF-beta',\n",
       "  'Wolff-Parkinson-White syndrome',\n",
       "  'fibrosis',\n",
       "  'glycogen storage disease',\n",
       "  'hypertrophic cardiomyopathy'],\n",
       " 'OTO': ['NOTNLM'],\n",
       " 'OWN': 'NLM',\n",
       " 'PG': '3292-3304',\n",
       " 'PHST': ['2016/07/01 [received]',\n",
       "  '2016/09/19 [revised]',\n",
       "  '2016/11/21 [accepted]'],\n",
       " 'PL': 'United States',\n",
       " 'PMID': '28009297',\n",
       " 'PST': 'ppublish',\n",
       " 'PT': ['Journal Article'],\n",
       " 'SO': 'Cell Rep. 2016 Dec 20;17(12):3292-3304. doi: 10.1016/j.celrep.2016.11.066.',\n",
       " 'STAT': 'In-Data-Review',\n",
       " 'TA': 'Cell Rep',\n",
       " 'TI': 'Integrative Analysis of PRKAG2 Cardiomyopathy iPS and Microtissue Models Identifies AMPK as a Regulator of Metabolism, Survival, and Fibrosis.',\n",
       " 'VI': '17'}"
      ]
     },
     "execution_count": 44,
     "metadata": {},
     "output_type": "execute_result"
    }
   ],
   "source": [
    "from StringIO import StringIO\n",
    "\n",
    "rec_file = StringIO(fetchRecord)\n",
    "medline_rec = Medline.read(rec_file)\n",
    "\n",
    "medline_rec"
   ]
  },
  {
   "cell_type": "code",
   "execution_count": 45,
   "metadata": {
    "collapsed": false
   },
   "outputs": [
    {
     "data": {
      "text/plain": [
       "'AMP-activated protein kinase (AMPK) is a metabolic enzyme that can be activated by nutrient stress or genetic mutations. Missense mutations in the regulatory subunit, PRKAG2, activate AMPK and cause left ventricular hypertrophy, glycogen accumulation, and ventricular pre-excitation. Using human iPS cell models combined with three-dimensional cardiac microtissues, we show that activating PRKAG2 mutations increase microtissue twitch force by enhancing myocyte survival. Integrating RNA sequencing with metabolomics, PRKAG2 mutations that activate AMPK remodeled global metabolism by regulating RNA transcripts to favor glycogen storage and oxidative metabolism instead of glycolysis. As in patients with PRKAG2 cardiomyopathy, iPS cell and mouse models are protected from cardiac fibrosis, and we define a crosstalk between AMPK and post-transcriptional regulation of TGFbeta isoform signaling that has implications in fibrotic forms of cardiomyopathy. Our results establish critical connections among metabolic sensing, myocyte survival, and TGFbeta signaling.'"
      ]
     },
     "execution_count": 45,
     "metadata": {},
     "output_type": "execute_result"
    }
   ],
   "source": [
    "medline_rec['AB']"
   ]
  },
  {
   "cell_type": "code",
   "execution_count": null,
   "metadata": {
    "collapsed": true
   },
   "outputs": [],
   "source": [
    "# http://stackoverflow.com/questions/36087715/how-can-i-extract-the-abstract-from-efetch-biopython-entrez\n",
    "from StringIO import StringIO\n",
    "from Bio import Entrez, Medline\n",
    "\n",
    "def search_medline(query, email):\n",
    "    Entrez.email = email\n",
    "    search = Entrez.esearch(db='pubmed', term=query, usehistory='y')\n",
    "    handle = Entrez.read(search)\n",
    "    try:\n",
    "        return handle\n",
    "    except Exception as e:\n",
    "        raise IOError(str(e))\n",
    "    finally:\n",
    "        search.close()\n",
    "\n",
    "def fetch_rec(rec_id, entrez_handle):\n",
    "    fetch_handle = Entrez.efetch(db='pubmed', id=rec_id,\n",
    "                                 rettype='Medline', retmode='text',\n",
    "                                 webenv=entrez_handle['WebEnv'],\n",
    "                                 query_key=entrez_handle['QueryKey'])\n",
    "    rec = fetch_handle.read()\n",
    "    return rec\n",
    "\n",
    "def main(query, email):\n",
    "    rec_handler = search_medline(query, email)\n",
    "\n",
    "    for rec_id in rec_handler['IdList']:\n",
    "        rec = fetch_rec(rec_id, rec_handler)\n",
    "        rec_file = StringIO(rec)\n",
    "        medline_rec = Medline.read(rec_file)\n",
    "        if 'AB' in medline_rec:\n",
    "            print(medline_rec['AB'])\n",
    "\n",
    "if __name__ == '__main__':\n",
    "    email = \"my-email@provider.sth\"\n",
    "    query = \"Tischner[AU] Cortex-specific down-regulation\"\n",
    "    main(query, email)"
   ]
  }
 ],
 "metadata": {
  "anaconda-cloud": {},
  "kernelspec": {
   "display_name": "Python [default]",
   "language": "python",
   "name": "python2"
  },
  "language_info": {
   "codemirror_mode": {
    "name": "ipython",
    "version": 2
   },
   "file_extension": ".py",
   "mimetype": "text/x-python",
   "name": "python",
   "nbconvert_exporter": "python",
   "pygments_lexer": "ipython2",
   "version": "2.7.12"
  }
 },
 "nbformat": 4,
 "nbformat_minor": 1
}
