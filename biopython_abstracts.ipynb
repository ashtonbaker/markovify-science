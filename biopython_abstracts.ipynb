{
 "cells": [
  {
   "cell_type": "code",
   "execution_count": 6,
   "metadata": {
    "collapsed": false
   },
   "outputs": [],
   "source": [
    "from Bio import Entrez\n",
    "import os"
   ]
  },
  {
   "cell_type": "code",
   "execution_count": 5,
   "metadata": {
    "collapsed": true
   },
   "outputs": [],
   "source": [
    "searchKeywords = [\"RNA\", \"disease\", \"mouse\"]"
   ]
  },
  {
   "cell_type": "code",
   "execution_count": 8,
   "metadata": {
    "collapsed": false
   },
   "outputs": [],
   "source": [
    "Entrez.email = \"diaorch@umich.edu\""
   ]
  },
  {
   "cell_type": "code",
   "execution_count": 17,
   "metadata": {
    "collapsed": false
   },
   "outputs": [
    {
     "data": {
      "text/plain": [
       "['24929426', '24497503', '24267035', '24194598', '23842806', '23157543', '22909249', '22399473', '21666252', '21210977', '20015970', '19811691', '19773334', '19304878', '18606172', '21585724', '16403221', '16377612', '14871861', '14630660']"
      ]
     },
     "execution_count": 17,
     "metadata": {},
     "output_type": "execute_result"
    }
   ],
   "source": [
    "searchHandle = Entrez.esearch(db=\"pubmed\", term=\"biopython\")\n",
    "searchRecord = Entrez.read(searchHandle)\n",
    "searchRecord[\"IdList\"]"
   ]
  },
  {
   "cell_type": "code",
   "execution_count": 18,
   "metadata": {
    "collapsed": false
   },
   "outputs": [
    {
     "name": "stdout",
     "output_type": "stream",
     "text": [
      "<?xml version=\"1.0\" ?>\n",
      "<!DOCTYPE PubmedArticleSet PUBLIC \"-//NLM//DTD PubMedArticle, 1st January 2017//EN\" \"https://dtd.nlm.nih.gov/ncbi/pubmed/out/pubmed_170101.dtd\">\n",
      "<PubmedArticleSet>\n",
      "<PubmedArticle>\n",
      "    <MedlineCitation Status=\"MEDLINE\" Owner=\"NLM\">\n",
      "        <PMID Version=\"1\">24497503</PMID>\n",
      "        <DateCreated>\n",
      "            <Year>2014</Year>\n",
      "            <Month>05</Month>\n",
      "            <Day>22</Day>\n",
      "        </DateCreated>\n",
      "        <DateCompleted>\n",
      "            <Year>2014</Year>\n",
      "            <Month>07</Month>\n",
      "            <Day>28</Day>\n",
      "        </DateCompleted>\n",
      "        <DateRevised>\n",
      "            <Year>2016</Year>\n",
      "            <Month>10</Month>\n",
      "            <Day>19</Day>\n",
      "        </DateRevised>\n",
      "        <Article PubModel=\"Print-Electronic\">\n",
      "            <Journal>\n",
      "                <ISSN IssnType=\"Electronic\">1367-4811</ISSN>\n",
      "                <JournalIssue CitedMedium=\"Internet\">\n",
      "                    <Volume>30</Volume>\n",
      "                    <Issue>11</Issue>\n",
      "                    <PubDate>\n",
      "                        <Year>2014</Year>\n",
      "                        <Month>Jun</Month>\n",
      "                        <Day>01</Day>\n",
      "                    </PubDate>\n",
      "                </JournalIssue>\n",
      "                <Title>Bioinformatics (Oxford, England)</Title>\n",
      "                <ISOAbbreviation>Bioinformatics</ISOAbbreviation>\n",
      "            </Journal>\n",
      "            <ArticleTitle>AMASS: a database for investigating protein structures.</ArticleTitle>\n",
      "            <Pagination>\n",
      "                <MedlinePgn>1595-600</MedlinePgn>\n",
      "            </Pagination>\n",
      "            <ELocationID EIdType=\"doi\" ValidYN=\"Y\">10.1093/bioinformatics/btu073</ELocationID>\n",
      "            <Abstract>\n",
      "                <AbstractText Label=\"MOTIVATION\" NlmCategory=\"BACKGROUND\">Modern techniques have produced many sequence annotation databases and protein structure portals, but these Web resources are rarely integrated in ways that permit straightforward exploration of protein functional residues and their co-localization.</AbstractText>\n",
      "                <AbstractText Label=\"RESULTS\" NlmCategory=\"RESULTS\">We have created the AMASS database, which maps 1D sequence annotation databases to 3D protein structures with an intuitive visualization interface. Our platform also provides an analysis service that screens mass spectrometry sequence data for post-translational modifications that reside in functionally relevant locations within protein structures. The system is built on the premise that functional residues such as active sites, cancer mutations and post-translational modifications within proteins may co-localize and share common functions.</AbstractText>\n",
      "                <AbstractText Label=\"AVAILABILITY AND IMPLEMENTATION\" NlmCategory=\"METHODS\">AMASS database is implemented with Biopython and Apache as a freely available Web server at amass-db.org.</AbstractText>\n",
      "                <CopyrightInformation>© The Author 2014. Published by Oxford University Press. All rights reserved. For Permissions, please e-mail: journals.permissions@oup.com.</CopyrightInformation>\n",
      "            </Abstract>\n",
      "            <AuthorList CompleteYN=\"Y\">\n",
      "                <Author ValidYN=\"Y\">\n",
      "                    <LastName>Mielke</LastName>\n",
      "                    <ForeName>Clinton J</ForeName>\n",
      "                    <Initials>CJ</Initials>\n",
      "                    <AffiliationInfo>\n",
      "                        <Affiliation>Biodesign Institute, Arizona State University, Tempe, AZ 85287, USA, The Center for Metabolic and Vascular Biology, Mayo Clinic, Scottsdale, AZ 85259, USA and Department of Biomedical Informatics, Arizona State University, Scottsdale, AZ 85259, USABiodesign Institute, Arizona State University, Tempe, AZ 85287, USA, The Center for Metabolic and Vascular Biology, Mayo Clinic, Scottsdale, AZ 85259, USA and Department of Biomedical Informatics, Arizona State University, Scottsdale, AZ 85259, USABiodesign Institute, Arizona State University, Tempe, AZ 85287, USA, The Center for Metabolic and Vascular Biology, Mayo Clinic, Scottsdale, AZ 85259, USA and Department of Biomedical Informatics, Arizona State University, Scottsdale, AZ 85259, USA.</Affiliation>\n",
      "                    </AffiliationInfo>\n",
      "                </Author>\n",
      "                <Author ValidYN=\"Y\">\n",
      "                    <LastName>Mandarino</LastName>\n",
      "                    <ForeName>Lawrence J</ForeName>\n",
      "                    <Initials>LJ</Initials>\n",
      "                    <AffiliationInfo>\n",
      "                        <Affiliation>Biodesign Institute, Arizona State University, Tempe, AZ 85287, USA, The Center for Metabolic and Vascular Biology, Mayo Clinic, Scottsdale, AZ 85259, USA and Department of Biomedical Informatics, Arizona State University, Scottsdale, AZ 85259, USA.</Affiliation>\n",
      "                    </AffiliationInfo>\n",
      "                </Author>\n",
      "                <Author ValidYN=\"Y\">\n",
      "                    <LastName>Dinu</LastName>\n",
      "                    <ForeName>Valentin</ForeName>\n",
      "                    <Initials>V</Initials>\n",
      "                    <AffiliationInfo>\n",
      "                        <Affiliation>Biodesign Institute, Arizona State University, Tempe, AZ 85287, USA, The Center for Metabolic and Vascular Biology, Mayo Clinic, Scottsdale, AZ 85259, USA and Department of Biomedical Informatics, Arizona State University, Scottsdale, AZ 85259, USA.</Affiliation>\n",
      "                    </AffiliationInfo>\n",
      "                </Author>\n",
      "            </AuthorList>\n",
      "            <Language>eng</Language>\n",
      "            <GrantList CompleteYN=\"Y\">\n",
      "                <Grant>\n",
      "                    <GrantID>R01 DK047936</GrantID>\n",
      "                    <Acronym>DK</Acronym>\n",
      "                    <Agency>NIDDK NIH HHS</Agency>\n",
      "                    <Country>United States</Country>\n",
      "                </Grant>\n",
      "                <Grant>\n",
      "                    <GrantID>R01DK04793</GrantID>\n",
      "                    <Acronym>DK</Acronym>\n",
      "                    <Agency>NIDDK NIH HHS</Agency>\n",
      "                    <Country>United States</Country>\n",
      "                </Grant>\n",
      "            </GrantList>\n",
      "            <PublicationTypeList>\n",
      "                <PublicationType UI=\"D016428\">Journal Article</PublicationType>\n",
      "                <PublicationType UI=\"D052061\">Research Support, N.I.H., Extramural</PublicationType>\n",
      "                <PublicationType UI=\"D013485\">Research Support, Non-U.S. Gov't</PublicationType>\n",
      "            </PublicationTypeList>\n",
      "            <ArticleDate DateType=\"Electronic\">\n",
      "                <Year>2014</Year>\n",
      "                <Month>02</Month>\n",
      "                <Day>03</Day>\n",
      "            </ArticleDate>\n",
      "        </Article>\n",
      "        <MedlineJournalInfo>\n",
      "            <Country>England</Country>\n",
      "            <MedlineTA>Bioinformatics</MedlineTA>\n",
      "            <NlmUniqueID>9808944</NlmUniqueID>\n",
      "            <ISSNLinking>1367-4803</ISSNLinking>\n",
      "        </MedlineJournalInfo>\n",
      "        <ChemicalList>\n",
      "            <Chemical>\n",
      "                <RegistryNumber>0</RegistryNumber>\n",
      "                <NameOfSubstance UI=\"D011506\">Proteins</NameOfSubstance>\n",
      "            </Chemical>\n",
      "            <Chemical>\n",
      "                <RegistryNumber>0</RegistryNumber>\n",
      "                <NameOfSubstance UI=\"D011768\">Pyruvate Dehydrogenase Complex</NameOfSubstance>\n",
      "            </Chemical>\n",
      "            <Chemical>\n",
      "                <RegistryNumber>EC 3.6.3.-</RegistryNumber>\n",
      "                <NameOfSubstance UI=\"D025261\">Mitochondrial Proton-Translocating ATPases</NameOfSubstance>\n",
      "            </Chemical>\n",
      "            <Chemical>\n",
      "                <RegistryNumber>EC 3.6.3.14</RegistryNumber>\n",
      "                <NameOfSubstance UI=\"C506526\">ATP5B protein, human</NameOfSubstance>\n",
      "            </Chemical>\n",
      "        </ChemicalList>\n",
      "        <CitationSubset>IM</CitationSubset>\n",
      "        <CommentsCorrectionsList>\n",
      "            <CommentsCorrections RefType=\"Cites\">\n",
      "                <RefSource>J Biol Chem. 2003 Mar 21;278(12):10436-42</RefSource>\n",
      "                <PMID Version=\"1\">12531894</PMID>\n",
      "            </CommentsCorrections>\n",
      "            <CommentsCorrections RefType=\"Cites\">\n",
      "                <RefSource>Curr Protoc Hum Genet. 2013 Jan;Chapter 7:Unit7.20</RefSource>\n",
      "                <PMID Version=\"1\">23315928</PMID>\n",
      "            </CommentsCorrections>\n",
      "            <CommentsCorrections RefType=\"Cites\">\n",
      "                <RefSource>Arch Biochem Biophys. 1978 Jan 30;185(2):584-91</RefSource>\n",
      "                <PMID Version=\"1\">626512</PMID>\n",
      "            </CommentsCorrections>\n",
      "            <CommentsCorrections RefType=\"Cites\">\n",
      "                <RefSource>Nucleic Acids Res. 1997 Sep 1;25(17):3389-402</RefSource>\n",
      "                <PMID Version=\"1\">9254694</PMID>\n",
      "            </CommentsCorrections>\n",
      "            <CommentsCorrections RefType=\"Cites\">\n",
      "                <RefSource>BMC Bioinformatics. 2006;7:166</RefSource>\n",
      "                <PMID Version=\"1\">16551372</PMID>\n",
      "            </CommentsCorrections>\n",
      "            <CommentsCorrections RefType=\"Cites\">\n",
      "                <RefSource>Nucleic Acids Res. 2007 Jan;35(Database issue):D229-31</RefSource>\n",
      "                <PMID Version=\"1\">17142231</PMID>\n",
      "            </CommentsCorrections>\n",
      "            <CommentsCorrections RefType=\"Cites\">\n",
      "                <RefSource>Sci Am. 2007 Mar;296(3):50-7</RefSource>\n",
      "                <PMID Version=\"1\">17348159</PMID>\n",
      "            </CommentsCorrections>\n",
      "            <CommentsCorrections RefType=\"Cites\">\n",
      "                <RefSource>Structure. 2008 Jan;16(1):5-11</RefSource>\n",
      "                <PMID Version=\"1\">18184575</PMID>\n",
      "            </CommentsCorrections>\n",
      "            <CommentsCorrections RefType=\"Cites\">\n",
      "                <RefSource>Nucleic Acids Res. 2008 Jan;36(Database issue):D240-4</RefSource>\n",
      "                <PMID Version=\"1\">17962309</PMID>\n",
      "            </CommentsCorrections>\n",
      "            <CommentsCorrections RefType=\"Cites\">\n",
      "                <RefSource>Structure. 2008 Dec 10;16(12):1849-59</RefSource>\n",
      "                <PMID Version=\"1\">19081061</PMID>\n",
      "            </CommentsCorrections>\n",
      "            <CommentsCorrections RefType=\"Cites\">\n",
      "                <RefSource>J Proteomics. 2009 Aug 20;72(6):1046-60</RefSource>\n",
      "                <PMID Version=\"1\">19567276</PMID>\n",
      "            </CommentsCorrections>\n",
      "            <CommentsCorrections RefType=\"Cites\">\n",
      "                <RefSource>Nucleic Acids Res. 2011 Jan;39(Database issue):D945-50</RefSource>\n",
      "                <PMID Version=\"1\">20952405</PMID>\n",
      "            </CommentsCorrections>\n",
      "            <CommentsCorrections RefType=\"Cites\">\n",
      "                <RefSource>Bioinformatics. 2011 Jun 1;27(11):1575-7</RefSource>\n",
      "                <PMID Version=\"1\">21471012</PMID>\n",
      "            </CommentsCorrections>\n",
      "            <CommentsCorrections RefType=\"Cites\">\n",
      "                <RefSource>Mol Syst Biol. 2011;7:539</RefSource>\n",
      "                <PMID Version=\"1\">21988835</PMID>\n",
      "            </CommentsCorrections>\n",
      "            <CommentsCorrections RefType=\"Cites\">\n",
      "                <RefSource>Nucleic Acids Res. 2012 Jan;40(Database issue):D935-9</RefSource>\n",
      "                <PMID Version=\"1\">22075996</PMID>\n",
      "            </CommentsCorrections>\n",
      "            <CommentsCorrections RefType=\"Cites\">\n",
      "                <RefSource>Nucleic Acids Res. 2012 Jan;40(Database issue):D71-5</RefSource>\n",
      "                <PMID Version=\"1\">22102590</PMID>\n",
      "            </CommentsCorrections>\n",
      "            <CommentsCorrections RefType=\"Cites\">\n",
      "                <RefSource>Nucleic Acids Res. 2012 Jan;40(Database issue):D261-70</RefSource>\n",
      "                <PMID Version=\"1\">22135298</PMID>\n",
      "            </CommentsCorrections>\n",
      "            <CommentsCorrections RefType=\"Cites\">\n",
      "                <RefSource>Database (Oxford). 2012;2012:bas018</RefSource>\n",
      "                <PMID Version=\"1\">22491796</PMID>\n",
      "            </CommentsCorrections>\n",
      "            <CommentsCorrections RefType=\"Cites\">\n",
      "                <RefSource>Cell. 2012 Jul 20;150(2):413-25</RefSource>\n",
      "                <PMID Version=\"1\">22817900</PMID>\n",
      "            </CommentsCorrections>\n",
      "            <CommentsCorrections RefType=\"Cites\">\n",
      "                <RefSource>Nucleic Acids Res. 2013 Jan;41(Database issue):D483-9</RefSource>\n",
      "                <PMID Version=\"1\">23203869</PMID>\n",
      "            </CommentsCorrections>\n",
      "            <CommentsCorrections RefType=\"Cites\">\n",
      "                <RefSource>Bioinformatics. 2003 Sep 22;19(14):1858-60</RefSource>\n",
      "                <PMID Version=\"1\">14512363</PMID>\n",
      "            </CommentsCorrections>\n",
      "        </CommentsCorrectionsList>\n",
      "        <MeshHeadingList>\n",
      "            <MeshHeading>\n",
      "                <DescriptorName UI=\"D030562\" MajorTopicYN=\"Y\">Databases, Protein</DescriptorName>\n",
      "            </MeshHeading>\n",
      "            <MeshHeading>\n",
      "                <DescriptorName UI=\"D006801\" MajorTopicYN=\"N\">Humans</DescriptorName>\n",
      "            </MeshHeading>\n",
      "            <MeshHeading>\n",
      "                <DescriptorName UI=\"D020407\" MajorTopicYN=\"N\">Internet</DescriptorName>\n",
      "            </MeshHeading>\n",
      "            <MeshHeading>\n",
      "                <DescriptorName UI=\"D013058\" MajorTopicYN=\"N\">Mass Spectrometry</DescriptorName>\n",
      "            </MeshHeading>\n",
      "            <MeshHeading>\n",
      "                <DescriptorName UI=\"D025261\" MajorTopicYN=\"N\">Mitochondrial Proton-Translocating ATPases</DescriptorName>\n",
      "                <QualifierName UI=\"Q000737\" MajorTopicYN=\"N\">chemistry</QualifierName>\n",
      "            </MeshHeading>\n",
      "            <MeshHeading>\n",
      "                <DescriptorName UI=\"D058977\" MajorTopicYN=\"N\">Molecular Sequence Annotation</DescriptorName>\n",
      "            </MeshHeading>\n",
      "            <MeshHeading>\n",
      "                <DescriptorName UI=\"D011487\" MajorTopicYN=\"Y\">Protein Conformation</DescriptorName>\n",
      "            </MeshHeading>\n",
      "            <MeshHeading>\n",
      "                <DescriptorName UI=\"D011499\" MajorTopicYN=\"N\">Protein Processing, Post-Translational</DescriptorName>\n",
      "            </MeshHeading>\n",
      "            <MeshHeading>\n",
      "                <DescriptorName UI=\"D011506\" MajorTopicYN=\"N\">Proteins</DescriptorName>\n",
      "                <QualifierName UI=\"Q000737\" MajorTopicYN=\"N\">chemistry</QualifierName>\n",
      "                <QualifierName UI=\"Q000235\" MajorTopicYN=\"N\">genetics</QualifierName>\n",
      "            </MeshHeading>\n",
      "            <MeshHeading>\n",
      "                <DescriptorName UI=\"D011768\" MajorTopicYN=\"N\">Pyruvate Dehydrogenase Complex</DescriptorName>\n",
      "                <QualifierName UI=\"Q000737\" MajorTopicYN=\"N\">chemistry</QualifierName>\n",
      "            </MeshHeading>\n",
      "            <MeshHeading>\n",
      "                <DescriptorName UI=\"D020539\" MajorTopicYN=\"N\">Sequence Analysis, Protein</DescriptorName>\n",
      "            </MeshHeading>\n",
      "        </MeshHeadingList>\n",
      "        <OtherID Source=\"NLM\">PMC4029036</OtherID>\n",
      "    </MedlineCitation>\n",
      "    <PubmedData>\n",
      "        <History>\n",
      "            <PubMedPubDate PubStatus=\"entrez\">\n",
      "                <Year>2014</Year>\n",
      "                <Month>2</Month>\n",
      "                <Day>6</Day>\n",
      "                <Hour>6</Hour>\n",
      "                <Minute>0</Minute>\n",
      "            </PubMedPubDate>\n",
      "            <PubMedPubDate PubStatus=\"pubmed\">\n",
      "                <Year>2014</Year>\n",
      "                <Month>2</Month>\n",
      "                <Day>6</Day>\n",
      "                <Hour>6</Hour>\n",
      "                <Minute>0</Minute>\n",
      "            </PubMedPubDate>\n",
      "            <PubMedPubDate PubStatus=\"medline\">\n",
      "                <Year>2014</Year>\n",
      "                <Month>7</Month>\n",
      "                <Day>30</Day>\n",
      "                <Hour>6</Hour>\n",
      "                <Minute>0</Minute>\n",
      "            </PubMedPubDate>\n",
      "        </History>\n",
      "        <PublicationStatus>ppublish</PublicationStatus>\n",
      "        <ArticleIdList>\n",
      "            <ArticleId IdType=\"pubmed\">24497503</ArticleId>\n",
      "            <ArticleId IdType=\"pii\">btu073</ArticleId>\n",
      "            <ArticleId IdType=\"doi\">10.1093/bioinformatics/btu073</ArticleId>\n",
      "            <ArticleId IdType=\"pmc\">PMC4029036</ArticleId>\n",
      "        </ArticleIdList>\n",
      "    </PubmedData>\n",
      "</PubmedArticle>\n",
      "\n",
      "</PubmedArticleSet>\n",
      "\n"
     ]
    }
   ],
   "source": [
    "fetchTestHandle = Entrez.efetch(db = \"pubmed\", id = searchRecord[\"IdList\"][1], rettype = \"medline\", retmode = \"xml\")\n",
    "print(fetchTestHandle.read())"
   ]
  },
  {
   "cell_type": "code",
   "execution_count": 19,
   "metadata": {
    "collapsed": false
   },
   "outputs": [
    {
     "data": {
      "text/plain": [
       "instance"
      ]
     },
     "execution_count": 19,
     "metadata": {},
     "output_type": "execute_result"
    }
   ],
   "source": [
    "type(fetchTestHandle)"
   ]
  },
  {
   "cell_type": "code",
   "execution_count": 24,
   "metadata": {
    "collapsed": false
   },
   "outputs": [
    {
     "ename": "NameError",
     "evalue": "name 'doc' is not defined",
     "output_type": "error",
     "traceback": [
      "\u001b[0;31m-------------------------------------------------------------------------\u001b[0m",
      "\u001b[0;31mNameError\u001b[0m                               Traceback (most recent call last)",
      "\u001b[0;32m<ipython-input-24-0e576f33f839>\u001b[0m in \u001b[0;36m<module>\u001b[0;34m()\u001b[0m\n\u001b[1;32m      1\u001b[0m \u001b[0;31m# write xml to file\u001b[0m\u001b[0;34m\u001b[0m\u001b[0;34m\u001b[0m\u001b[0m\n\u001b[1;32m      2\u001b[0m \u001b[0mxmlFile\u001b[0m \u001b[0;34m=\u001b[0m  \u001b[0mopen\u001b[0m\u001b[0;34m(\u001b[0m\u001b[0;34m\"testXML.xml\"\u001b[0m\u001b[0;34m,\u001b[0m \u001b[0;34m\"wb\"\u001b[0m\u001b[0;34m)\u001b[0m\u001b[0;34m\u001b[0m\u001b[0m\n\u001b[0;32m----> 3\u001b[0;31m \u001b[0mdoc\u001b[0m\u001b[0;34m.\u001b[0m\u001b[0mwritexml\u001b[0m\u001b[0;34m(\u001b[0m\u001b[0mxmlFile\u001b[0m\u001b[0;34m,\u001b[0m \u001b[0mencoding\u001b[0m\u001b[0;34m=\u001b[0m \u001b[0;34m'utf-8'\u001b[0m\u001b[0;34m)\u001b[0m\u001b[0;34m\u001b[0m\u001b[0m\n\u001b[0m\u001b[1;32m      4\u001b[0m \u001b[0mxmlFile\u001b[0m\u001b[0;34m.\u001b[0m\u001b[0mclose\u001b[0m\u001b[0;34m(\u001b[0m\u001b[0;34m)\u001b[0m\u001b[0;34m\u001b[0m\u001b[0m\n",
      "\u001b[0;31mNameError\u001b[0m: name 'doc' is not defined"
     ]
    }
   ],
   "source": [
    "# write xml to file\n"
   ]
  },
  {
   "cell_type": "code",
   "execution_count": 26,
   "metadata": {
    "collapsed": true
   },
   "outputs": [],
   "source": [
    "from bs4 import BeautifulSoup"
   ]
  },
  {
   "cell_type": "code",
   "execution_count": 35,
   "metadata": {
    "collapsed": false
   },
   "outputs": [
    {
     "name": "stdout",
     "output_type": "stream",
     "text": [
      "<?xml version=\"1.0\" encoding=\"utf-8\"?>\n",
      "\n"
     ]
    }
   ],
   "source": [
    "soup = BeautifulSoup(fetchTestHandle.read(), 'xml')\n",
    "print(soup)"
   ]
  },
  {
   "cell_type": "code",
   "execution_count": 34,
   "metadata": {
    "collapsed": false
   },
   "outputs": [
    {
     "name": "stdout",
     "output_type": "stream",
     "text": [
      "None\n"
     ]
    }
   ],
   "source": [
    "x = soup.find('abstract')\n",
    "print(x)"
   ]
  },
  {
   "cell_type": "code",
   "execution_count": 32,
   "metadata": {
    "collapsed": true
   },
   "outputs": [],
   "source": [
    "import markovify"
   ]
  },
  {
   "cell_type": "code",
   "execution_count": 33,
   "metadata": {
    "collapsed": false
   },
   "outputs": [
    {
     "ename": "AttributeError",
     "evalue": "'NoneType' object has no attribute 'getText'",
     "output_type": "error",
     "traceback": [
      "\u001b[0;31m-------------------------------------------------------------------------\u001b[0m",
      "\u001b[0;31mAttributeError\u001b[0m                          Traceback (most recent call last)",
      "\u001b[0;32m<ipython-input-33-b24a3ff6b61c>\u001b[0m in \u001b[0;36m<module>\u001b[0;34m()\u001b[0m\n\u001b[0;32m----> 1\u001b[0;31m \u001b[0mx\u001b[0m\u001b[0;34m.\u001b[0m\u001b[0mgetText\u001b[0m\u001b[0;34m(\u001b[0m\u001b[0;34m)\u001b[0m\u001b[0;34m\u001b[0m\u001b[0m\n\u001b[0m",
      "\u001b[0;31mAttributeError\u001b[0m: 'NoneType' object has no attribute 'getText'"
     ]
    }
   ],
   "source": [
    "x.getText()"
   ]
  },
  {
   "cell_type": "code",
   "execution_count": null,
   "metadata": {
    "collapsed": true
   },
   "outputs": [],
   "source": []
  }
 ],
 "metadata": {
  "anaconda-cloud": {},
  "kernelspec": {
   "display_name": "Python [default]",
   "language": "python",
   "name": "python2"
  },
  "language_info": {
   "codemirror_mode": {
    "name": "ipython",
    "version": 2
   },
   "file_extension": ".py",
   "mimetype": "text/x-python",
   "name": "python",
   "nbconvert_exporter": "python",
   "pygments_lexer": "ipython2",
   "version": "2.7.12"
  }
 },
 "nbformat": 4,
 "nbformat_minor": 1
}
