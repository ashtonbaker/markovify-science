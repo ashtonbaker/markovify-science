{
 "cells": [
  {
   "cell_type": "code",
   "execution_count": 1,
   "metadata": {
    "collapsed": false
   },
   "outputs": [],
   "source": [
    "from bs4 import BeautifulSoup\n",
    "import markovify\n",
    "import os"
   ]
  },
  {
   "cell_type": "code",
   "execution_count": 23,
   "metadata": {
    "collapsed": false
   },
   "outputs": [],
   "source": [
    "abstracts = []\n",
    "\n",
    "files = [f for f in os.listdir('./dt') if f.endswith('28009297.xml')]\n",
    "for filename in files:\n",
    "    with open('./dt/' + filename) as f:\n",
    "        soup = BeautifulSoup(f.read(), 'xml')\n",
    "        x = soup.find('Abstract')\n",
    "        if x:\n",
    "            abstracts.append(x.get_text().split('\\n')[0])"
   ]
  },
  {
   "cell_type": "code",
   "execution_count": 24,
   "metadata": {
    "collapsed": false
   },
   "outputs": [
    {
     "data": {
      "text/plain": [
       "[]"
      ]
     },
     "execution_count": 24,
     "metadata": {},
     "output_type": "execute_result"
    }
   ],
   "source": [
    "abstracts"
   ]
  },
  {
   "cell_type": "code",
   "execution_count": 9,
   "metadata": {
    "collapsed": false
   },
   "outputs": [],
   "source": [
    "with open('Bioinformatics.txt', 'a') as f:\n",
    "    for l in abstracts:\n",
    "        f.write(l.encode('utf8') + '\\n')"
   ]
  },
  {
   "cell_type": "code",
   "execution_count": 2,
   "metadata": {
    "collapsed": false
   },
   "outputs": [
    {
     "name": "stdout",
     "output_type": "stream",
     "text": [
      "OBJECTIVE: The kinetics of the functions of ptx3 after injury prompts the resolution of various disease states. Advances in vitro and benefit the termination of potentially mis-annotated miRNAs in the termination of lincRNA-p21 correlated with high disease states. Advances in wild-type and families. Finally, we aimed to be down-regulated in rodents that lincRNA-p21 level. CONCLUSIONS: Our findings will further contribute to perform large-scale analyses include global expression of human prostate cancer, and the prediction of human prostate tissues, samples into a relatively straightforward task to perform large-scale analyses include global analysis of lincRNA-p21 or knocking down genes and Mouse for the accumulation of the miRNA epi-transcriptomic modifications and features such as modifications and biogenesis. These analyses of debris and RNA editing events, which correlated with tissue specificity, various time after muscle injury prompts the protein. The advent of miRNAs. Herein, we report a range of mechanisms involved in cell proliferation and reduced in vitro and nonviral vectors.\n",
      "\n",
      "Altering expression and reduced in cell lines and restricted to our understanding of lincRNA-p21 correlated with deposited datasets. However, there are a list of lincRNA-p21 promoted apoptosis and apoptosis. A mouse xenograft model was assessed by apoptotic activation.\n",
      "\n",
      "OBJECTIVE: The signals causing the expression of the features, distribution and colony formation in vitro and nonviral vectors.\n",
      "\n",
      "OBJECTIVE: The advent of debris and leukocytes infiltration, the roles of specific genes in an externally controlled fashion. To achieve this to the clearance of p53 downstream genes was found to explore the protein. The signals causing the termination of ptx3-deficient mice. RESULTS: LincRNA-p21 was assessed by apoptotic cell proliferation and engulfed dead cells in development of human prostate cancer cell population growth in the accumulation of the features, distribution and Mouse for which is one of cell clearance and prediction of various disease states. Advances in wild-type animals had healed. ptx3-deficient macrophages expressed receptors involved in human prostate cancer cell proliferation and apoptosis. A mouse xenograft model was employed to be down-regulated in development of p53 binding to their prevalence across tissues, samples into a range of the prediction of lincRNA-p21 in development of miRNA function in a coordinated catalog of miRNA clusters and induced expression was found to their aggregated modification profiles. The kinetics of the majority of microRNA expression. We analysed the majority of functions spanning development, differentiation, growth, metabolism and the roles of the accumulation of mechanisms involved in apoptotic cell clearance of next-generation sequencing technologies has made it a long pentraxin PTX3, which modulates leukocyte recruitment and verified whether hematopoietic precursors are only partially characterized. The results have a source of miRNA community in general.\n",
      "\n",
      "OBJECTIVE: The kinetics of miRNA epi-transcriptomic modifications and low levels were explored by regulating p53 downstream gene transfer technologies has made it a comprehensive online repository of functions spanning development, differentiation, growth, metabolism and ptx3-deficient mice for which the muscle inflammation are a relatively straightforward task to the extracellular matrix. Cellular debris and RNA editing events, which the dissection of lincRNA-p21 level. CONCLUSIONS: Our findings will further contribute to detect these molecules and in rodents that lincRNA-p21 was assessed by apoptotic activation.\n",
      "\n",
      "OBJECTIVE: The signals causing the malignant prostate cancer, and assess their relative expression was reduced in both animals and biogenesis of ptx3 after muscle injury and colony formation in men, worldwide, although its underlying constraints. Additionally, we focus on cancer partly by regulating p53 downstream genes in both animals and benefit the majority of microRNA expression. We reanalyse sequencing technologies produced vectors with tissue specificity, various time after muscle of p53 downstream gene expression of miRNA strand-specificity and features such as modifications and the prediction of miRNA epi-transcriptomic modifications and colony formation in rodents that lincRNA-p21 on Human and underlying mechanisms are currently few resources that expression was up-regulated three-five days after injury prompts the accumulation of p53 downstream gene transfer in development of microRNA expression. We further showed that expression comparison, co-expression of published studies with deposited datasets. However, there are available. We reanalyse sequencing technologies has made it a coordinated catalog of the clearance and leukocytes persisted in wild-type animals had healed. ptx3-deficient mice for which correlated with deposited datasets. However, there are important genetic regulators in development of microRNA expression. We analysed the features, distribution and prediction of human prostate cancer cell population growth in human prostate cancer cell proliferation and nonviral vectors.\n",
      "\n",
      "Altering expression comparison, co-expression of cell population growth in both viral and benefit the expression of miRNA clusters and RNA editing events, which correlated with lincRNA-p21 or control constructs were used to detect these data from 461 samples and lincRNA-p21 was found to study the dissection of lincRNA-p21 level. CONCLUSIONS: Our findings indicated that capitalize on cardiac gene expression comparison, co-expression of muscle injury and underlying mechanisms involved revealed that lincRNA-p21 inhibited development of lincRNA-p21 level. CONCLUSIONS: Our findings will further showed that lincRNA-p21 level. CONCLUSIONS: Our findings will further showed that can be down-regulated in vivo. Study of potentially mis-annotated miRNAs in response to elicit autoantibodies. CONCLUSION: PTX3 generated in development of various pathways involved revealed that lincRNA-p21 or knocking down genes in a coordinated catalog of the roles of data from 461 samples and partly by real-time PCR, western blotting and partly by regulating p53 downstream genes and biogenesis. These analyses include global analysis of ptx3 after muscle injury and assess their prevalence across tissues, which correlated with lincRNA-p21 levels of mechanisms are a source of the majority of ptx3-deficient macrophages expressed receptors involved in an externally controlled fashion. To achieve this invetsigation, we report for which is one of miRNA expression and the protein. The long time courses, increasing or control constructs were compared in gene expression of lincRNA-p21 levels were compared in gene transfer in men, worldwide, although its underlying constraints. Additionally, we focus on these findings indicated that can be employed to detect these molecules and prediction of miRNA clusters and their relative expression comparison, co-expression of cell proliferation and in rodents that lincRNA-p21 in response to determine their aggregated modification profiles. The results have a relatively straightforward task to better understand the expression of muscle inflammation are not sufficient to explore the protein. The signals causing the roles of the resolution of microRNA expression. We believe these findings indicated that capitalize on these findings indicated that lincRNA-p21 inhibited prostate cancer cell proliferation and partly by regulating p53 downstream gene transfer in miRBase based on cell remnants and leukocytes persisted in men, worldwide, although its underlying mechanisms involved revealed that can be down-regulated in rodent models allows the miRNA epi-transcriptomic modifications and their relative expression and lincRNA-p21 on their prevalence across tissues, samples and colony formation in the features, distribution and their prevalence across tissues, samples into a comprehensive online repository of muscle injury and in general.\n",
      "\n",
      "OBJECTIVES: Prostate cancer partly by regulating p53 downstream genes in a comprehensive online repository of p53 downstream genes was not fully understood. Long non-coding RNAs participate in vivo. Study of p53 downstream genes in cell clearance of ptx3-deficient mice. RESULTS: LincRNA-p21 was not sufficient to explore the prediction of ptx3 after muscle of next-generation sequencing technologies has made it a pro-inflammatory microenvironment was reduced in general.\n",
      "\n",
      "MicroRNAs are important genetic regulators in cell proliferation and anti-histidyl-t-RNA synthetase autoantibodies were used to muscle injury and restricted to determine their effects on cardiac gene expression and their aggregated modification profiles. The long pentraxin PTX3, which is essential for successfully conducting experiments. In this invetsigation, we focus on Human and leukocytes persisted in development of muscle of next-generation sequencing technologies produced vectors with deposited datasets. However, there are important genetic regulators in a coordinated catalog of miRNA expression of microRNA expression. We reanalyse sequencing technologies has made it a range of next-generation sequencing data to better understand the expression and Mouse for delivering both viral and prediction of regeneration and lincRNA-p21 promoted apoptosis and chromatin immunoprecipitation. RESULTS: LincRNA-p21 was found to be employed for successfully conducting experiments. In this chapter, we report for the first time courses, increasing or control constructs were compared in miRBase based on cell clearance and chromatin immunoprecipitation. RESULTS: LincRNA-p21 was reduced in men, worldwide, although its underlying mechanisms involved in human cancers. In this invetsigation, we report a pro-inflammatory microenvironment was not fully understood. Long non-coding RNAs participate in both animals and prediction of miRNA epi-transcriptomic modifications and leukocytes persisted in human prostate cancer cell proliferation and ptx3-deficient mice. RESULTS: Ptx3 expression and ptx3-deficient macrophages expressed receptors involved in animals had healed. ptx3-deficient mice for the extracellular matrix. Cellular debris and low levels were explored by real-time PCR in various disease stage and prediction of the clearance of lincRNA-p21 promoted apoptosis and features such as modifications and ptx3-deficient mice for a comprehensive online repository of the majority of cell proliferation and nonviral vectors.\n",
      "\n",
      "Altering expression of next-generation sequencing data from 461 samples into a long time a comprehensive online repository of cell lines and ptx3-deficient mice. RESULTS: LincRNA-p21 was found to study the roles of functions spanning development, differentiation, growth, metabolism and leukocytes infiltration, the features, distribution and underlying mechanisms involved in human cancers. In this chapter, we focus on their relative expression via sequencing. There are only partially characterized. The signals causing the inflammatory response.\n",
      "\n"
     ]
    }
   ],
   "source": [
    "# Get raw text as string.\n",
    "with open(\"dt/bioinfAbstract.search.txt\") as f:\n",
    "    text = f.read()\n",
    "\n",
    "# Build the model.\n",
    "text_model = markovify.NewlineText(text, state_size=1)\n",
    "\n",
    "for x in range(10):\n",
    "    print(text_model.make_sentence(tries = 1000) + '\\n')"
   ]
  },
  {
   "cell_type": "code",
   "execution_count": null,
   "metadata": {
    "collapsed": true
   },
   "outputs": [],
   "source": []
  }
 ],
 "metadata": {
  "anaconda-cloud": {},
  "kernelspec": {
   "display_name": "Python [default]",
   "language": "python",
   "name": "python2"
  },
  "language_info": {
   "codemirror_mode": {
    "name": "ipython",
    "version": 2
   },
   "file_extension": ".py",
   "mimetype": "text/x-python",
   "name": "python",
   "nbconvert_exporter": "python",
   "pygments_lexer": "ipython2",
   "version": "2.7.12"
  }
 },
 "nbformat": 4,
 "nbformat_minor": 0
}
